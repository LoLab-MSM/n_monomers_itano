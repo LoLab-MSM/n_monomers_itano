{
 "cells": [
  {
   "cell_type": "code",
   "execution_count": 1,
   "metadata": {},
   "outputs": [],
   "source": [
    "%matplotlib inline\n",
    "from n_monomers_model import *\n",
    "from n_monomers_class import NMonomersSol\n",
    "from pysb.simulator import ScipyOdeSimulator\n",
    "import numpy as np\n",
    "import matplotlib.pyplot as plt\n",
    "import sympy\n",
    "\n",
    "model = generate_n_monomers_model(3)\n",
    "mon3 = NMonomersSol(model)\n",
    "\n",
    "update_initial_conditions(model, {0: 1e-6, 1: 1.57e-7, 2: 1e-6})\n",
    "update_kinetic_parameters(model, {0: 1e-2, 1: 2e6, 2: 2.74e6, 3: 2e-4, 4: 2.1e7})"
   ]
  },
  {
   "cell_type": "code",
   "execution_count": 2,
   "metadata": {},
   "outputs": [
    {
     "data": {
      "text/plain": [
       "[b_1(s1=None, s2=None),\n",
       " b_2(s1=None, s2=None),\n",
       " b_3(s1=None),\n",
       " b_1(s1=None, s2=1) % b_1(s1=None, s2=1),\n",
       " b_1(s1=1, s2=None) % b_2(s1=None, s2=1),\n",
       " b_2(s1=1, s2=None) % b_3(s1=1),\n",
       " b_1(s1=1, s2=2) % b_1(s1=None, s2=2) % b_2(s1=None, s2=1),\n",
       " b_1(s1=1, s2=2) % b_1(s1=3, s2=2) % b_2(s1=None, s2=1) % b_2(s1=None, s2=3),\n",
       " b_1(s1=1, s2=None) % b_2(s1=2, s2=1) % b_3(s1=2),\n",
       " b_1(s1=1, s2=2) % b_1(s1=None, s2=2) % b_2(s1=3, s2=1) % b_3(s1=3),\n",
       " b_1(s1=1, s2=2) % b_1(s1=3, s2=2) % b_2(s1=4, s2=3) % b_2(s1=None, s2=1) % b_3(s1=4),\n",
       " b_1(s1=1, s2=2) % b_1(s1=3, s2=2) % b_2(s1=4, s2=1) % b_2(s1=5, s2=3) % b_3(s1=4) % b_3(s1=5)]"
      ]
     },
     "execution_count": 2,
     "metadata": {},
     "output_type": "execute_result"
    }
   ],
   "source": [
    "mon3.model.species"
   ]
  },
  {
   "cell_type": "code",
   "execution_count": 12,
   "metadata": {},
   "outputs": [
    {
     "name": "stdout",
     "output_type": "stream",
     "text": [
      "equation:0 __s4*l2 + __s6*l1 + __s8*l2 + __s9*l1 + (0.5*__s0**2*k1)*(-2) + (__s3*l1)*2 + (__s0*__s1*k2)*(-1) + (__s0*__s4*k1)*(-1) + (__s0*__s5*k2)*(-1) + (__s0*__s8*k1)*(-1)\n",
      "equation:1 __s10*l2 + __s4*l2 + __s6*l2 + 2.0*__s7*l2 + (__s0*__s1*k2)*(-1) + (__s1*__s2*k3)*(-1) + (2.0*__s1*__s3*k2)*(-1) + (__s1*__s6*k2)*(-1) + (__s1*__s9*k2)*(-1)\n",
      "equation:2 (__s1*__s2*k3)*(-1) + (__s10*__s2*k3)*(-1) + (__s2*__s4*k3)*(-1) + (__s2*__s6*k3)*(-1) + (2.0*__s2*__s7*k3)*(-1)\n",
      "equation:3 0.5*__s0**2*k1 + __s6*l2 + __s9*l2 + (__s3*l1)*(-1) + (2.0*__s1*__s3*k2)*(-1) + (2.0*__s3*__s5*k2)*(-1)\n",
      "equation:4 __s0*__s1*k2 + __s10*l1 + __s6*l1 + (__s4*l2)*(-1) + (0.5*__s4**2*k1)*(-2) + (__s7*l1)*2 + (__s0*__s4*k1)*(-1) + (__s2*__s4*k3)*(-1) + (__s4*__s8*k1)*(-1)\n",
      "equation:5 __s1*__s2*k3 + __s10*l2 + 2.0*__s11*l2 + __s8*l2 + __s9*l2 + (__s0*__s5*k2)*(-1) + (2.0*__s3*__s5*k2)*(-1) + (__s5*__s6*k2)*(-1) + (__s5*__s9*k2)*(-1)\n",
      "equation:6 __s0*__s4*k1 + 2.0*__s1*__s3*k2 + __s10*l2 + 2.0*__s7*l2 + (__s6*l1)*(-1) + (__s6*l2)*(-1) + (__s1*__s6*k2)*(-1) + (__s2*__s6*k3)*(-1) + (__s5*__s6*k2)*(-1)\n",
      "equation:7 __s1*__s6*k2 + 0.5*__s4**2*k1 + (__s7*l1)*(-1) + (2.0*__s7*l2)*(-1) + (2.0*__s2*__s7*k3)*(-1)\n",
      "equation:8 __s0*__s5*k2 + __s10*l1 + __s2*__s4*k3 + __s9*l1 + (__s11*l1)*2 + (__s8*l2)*(-1) + (0.5*__s8**2*k1)*(-2) + (__s0*__s8*k1)*(-1) + (__s4*__s8*k1)*(-1)\n",
      "equation:9 __s0*__s8*k1 + __s10*l2 + 2.0*__s11*l2 + __s2*__s6*k3 + 2.0*__s3*__s5*k2 + (__s9*l1)*(-1) + (__s9*l2)*(-1) + (__s1*__s9*k2)*(-1) + (__s5*__s9*k2)*(-1)\n",
      "equation:10 __s1*__s9*k2 + 2.0*__s2*__s7*k3 + __s4*__s8*k1 + __s5*__s6*k2 + (__s10*l1)*(-1) + (__s10*l2)*(-1) + (__s10*l2)*(-1) + (__s10*__s2*k3)*(-1)\n",
      "equation:11 __s10*__s2*k3 + __s5*__s9*k2 + 0.5*__s8**2*k1 + (__s11*l1)*(-1) + (2.0*__s11*l2)*(-1)\n"
     ]
    }
   ],
   "source": [
    "for i, j in enumerate(mon3.model.odes): print ('equation:{}'.format(i), j)"
   ]
  },
  {
   "cell_type": "code",
   "execution_count": 4,
   "metadata": {},
   "outputs": [
    {
     "data": {
      "text/html": [
       "<div>\n",
       "<style scoped>\n",
       "    .dataframe tbody tr th:only-of-type {\n",
       "        vertical-align: middle;\n",
       "    }\n",
       "\n",
       "    .dataframe tbody tr th {\n",
       "        vertical-align: top;\n",
       "    }\n",
       "\n",
       "    .dataframe thead th {\n",
       "        text-align: right;\n",
       "    }\n",
       "</style>\n",
       "<table border=\"1\" class=\"dataframe\">\n",
       "  <thead>\n",
       "    <tr style=\"text-align: right;\">\n",
       "      <th></th>\n",
       "      <th>1</th>\n",
       "      <th>2</th>\n",
       "      <th>3</th>\n",
       "    </tr>\n",
       "  </thead>\n",
       "  <tbody>\n",
       "    <tr>\n",
       "      <th>1</th>\n",
       "      <td>b_1(s1=None, s2=None)</td>\n",
       "      <td>b_2(s1=None, s2=None)</td>\n",
       "      <td>b_3(s1=None)</td>\n",
       "    </tr>\n",
       "    <tr>\n",
       "      <th>2</th>\n",
       "      <td>b_1(s1=None, s2=1) % b_1(s1=None, s2=1)</td>\n",
       "      <td>b_1(s1=1, s2=None) % b_2(s1=None, s2=1)</td>\n",
       "      <td>b_2(s1=1, s2=None) % b_3(s1=1)</td>\n",
       "    </tr>\n",
       "    <tr>\n",
       "      <th>3</th>\n",
       "      <td>NaN</td>\n",
       "      <td>b_1(s1=1, s2=2) % b_1(s1=None, s2=2) % b_2(s1=...</td>\n",
       "      <td>b_1(s1=1, s2=None) % b_2(s1=2, s2=1) % b_3(s1=2)</td>\n",
       "    </tr>\n",
       "    <tr>\n",
       "      <th>4</th>\n",
       "      <td>NaN</td>\n",
       "      <td>b_1(s1=1, s2=2) % b_1(s1=3, s2=2) % b_2(s1=Non...</td>\n",
       "      <td>b_1(s1=1, s2=2) % b_1(s1=None, s2=2) % b_2(s1=...</td>\n",
       "    </tr>\n",
       "    <tr>\n",
       "      <th>5</th>\n",
       "      <td>NaN</td>\n",
       "      <td>NaN</td>\n",
       "      <td>b_1(s1=1, s2=2) % b_1(s1=3, s2=2) % b_2(s1=4, ...</td>\n",
       "    </tr>\n",
       "    <tr>\n",
       "      <th>6</th>\n",
       "      <td>NaN</td>\n",
       "      <td>NaN</td>\n",
       "      <td>b_1(s1=1, s2=2) % b_1(s1=3, s2=2) % b_2(s1=4, ...</td>\n",
       "    </tr>\n",
       "  </tbody>\n",
       "</table>\n",
       "</div>"
      ],
      "text/plain": [
       "                                         1  \\\n",
       "1                    b_1(s1=None, s2=None)   \n",
       "2  b_1(s1=None, s2=1) % b_1(s1=None, s2=1)   \n",
       "3                                      NaN   \n",
       "4                                      NaN   \n",
       "5                                      NaN   \n",
       "6                                      NaN   \n",
       "\n",
       "                                                   2  \\\n",
       "1                              b_2(s1=None, s2=None)   \n",
       "2            b_1(s1=1, s2=None) % b_2(s1=None, s2=1)   \n",
       "3  b_1(s1=1, s2=2) % b_1(s1=None, s2=2) % b_2(s1=...   \n",
       "4  b_1(s1=1, s2=2) % b_1(s1=3, s2=2) % b_2(s1=Non...   \n",
       "5                                                NaN   \n",
       "6                                                NaN   \n",
       "\n",
       "                                                   3  \n",
       "1                                       b_3(s1=None)  \n",
       "2                     b_2(s1=1, s2=None) % b_3(s1=1)  \n",
       "3   b_1(s1=1, s2=None) % b_2(s1=2, s2=1) % b_3(s1=2)  \n",
       "4  b_1(s1=1, s2=2) % b_1(s1=None, s2=2) % b_2(s1=...  \n",
       "5  b_1(s1=1, s2=2) % b_1(s1=3, s2=2) % b_2(s1=4, ...  \n",
       "6  b_1(s1=1, s2=2) % b_1(s1=3, s2=2) % b_2(s1=4, ...  "
      ]
     },
     "execution_count": 4,
     "metadata": {},
     "output_type": "execute_result"
    }
   ],
   "source": [
    "mon3.reaction_groups"
   ]
  },
  {
   "cell_type": "code",
   "execution_count": 5,
   "metadata": {},
   "outputs": [
    {
     "name": "stderr",
     "output_type": "stream",
     "text": [
      "2019-01-07 11:30:40.735 - pysb.simulator.scipyode - WARNING - [n_monomers_model] This system of ODEs will be evaluated in pure Python. This may be slow for large models. We recommend installing a package for compiling the ODEs to C code: 'weave' (recommended for Python 2) or 'cython' (recommended for Python 3). This warning can be suppressed by specifying compiler='python'.\n"
     ]
    },
    {
     "data": {
      "image/png": "[encoded data removed]",
      "text/plain": [
       "<Figure size 432x288 with 1 Axes>"
      ]
     },
     "metadata": {
      "needs_background": "light"
     },
     "output_type": "display_data"
    }
   ],
   "source": [
    "from n_monomers_model import *\n",
    "from n_monomers_class import NMonomersSol\n",
    "from pysb.simulator import ScipyOdeSimulator\n",
    "import numpy as np\n",
    "import matplotlib\n",
    "import sympy\n",
    "\n",
    "model = generate_n_monomers_model(3)\n",
    "mon3 = NMonomersSol(model)\n",
    "\n",
    "update_initial_conditions(model, {0: 1e-6, 1: 1.57e-7, 2: 1e-6})\n",
    "update_kinetic_parameters(model, {0: 1e-2, 1: 2e6, 2: 2.74e6, 3: 2e-4, 4: 2.1e7})\n",
    "\n",
    "tspan = np.linspace(0, 5, 50)\n",
    "y = ScipyOdeSimulator(model, tspan).run().all\n",
    "t = sympy.Symbol('t')\n",
    "\n",
    "plt.figure(1)\n",
    "exp3 = mon3.get_lu_m_sol(3)[0][0]\n",
    "f3 = sympy.lambdify(t, exp3, 'numpy')\n",
    "plt.plot(tspan, f3(tspan), color='r', linestyle=':', linewidth=6, label='LU_3')\n",
    "plt.plot(tspan, y['__s2'], color='b')\n",
    "\n",
    "exp2 = mon3.get_lu_m_sol(2)[0][0]\n",
    "f2 = sympy.lambdify(t, exp2, 'numpy')\n",
    "plt.plot(tspan, f2(tspan), color='k', linestyle=':', linewidth=6, label='LU_2')\n",
    "plt.plot(tspan, y['__s1'] + y['__s5'], color='b')\n",
    "\n",
    "exp1 = mon3.get_lu_m_sol(1)[0][0]\n",
    "f1 = sympy.lambdify(t, exp1, 'numpy')\n",
    "plt.plot(tspan, f1(tspan), color='g', linestyle=':', linewidth=6, label='LU_1')\n",
    "plt.plot(tspan, y['__s0'] + y['__s4'] + y['__s8'], color='b', label='simulation')\n",
    "plt.legend()\n",
    "plt.show()\n",
    "# plt.savefig('/Users/dionisio/Desktop/monomer.png', bbox_inches='tight', dpi=400)"
   ]
  },
  {
   "cell_type": "code",
   "execution_count": null,
   "metadata": {},
   "outputs": [],
   "source": []
  }
 ],
 "metadata": {
  "kernelspec": {
   "display_name": "Python 2",
   "language": "python",
   "name": "python2"
  },
  "language_info": {
   "codemirror_mode": {
    "name": "ipython",
    "version": 3
   },
   "file_extension": ".py",
   "mimetype": "text/x-python",
   "name": "python",
   "nbconvert_exporter": "python",
   "pygments_lexer": "ipython3",
   "version": "3.7.1"
  }
 },
 "nbformat": 4,
 "nbformat_minor": 1
}
